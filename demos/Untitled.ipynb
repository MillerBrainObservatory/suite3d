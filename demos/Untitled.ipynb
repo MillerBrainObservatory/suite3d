{
 "cells": [
  {
   "cell_type": "code",
   "execution_count": 1,
   "id": "5d357ab5-6c2e-46e3-993f-4d92802e84d9",
   "metadata": {
    "execution": {
     "iopub.execute_input": "2025-04-14T17:02:23.813908Z",
     "iopub.status.busy": "2025-04-14T17:02:23.813428Z",
     "iopub.status.idle": "2025-04-14T17:02:25.726134Z",
     "shell.execute_reply": "2025-04-14T17:02:25.725395Z",
     "shell.execute_reply.started": "2025-04-14T17:02:23.813875Z"
    }
   },
   "outputs": [
    {
     "name": "stdout",
     "output_type": "stream",
     "text": [
      "No MRCFile\n",
      "Issues importing compute components. \n",
      "\n",
      "\n",
      "No module named 'dask_image'\n"
     ]
    }
   ],
   "source": [
    "import os \n",
    "from datetime import date\n",
    "from matplotlib import pyplot as plt\n",
    "import numpy as np\n",
    "\n",
    "os.chdir(os.path.dirname(os.path.abspath(\"\")))\n",
    "\n",
    "from suite3d.job import Job\n",
    "from suite3d import io\n",
    "from suite3d import plot_utils as plot"
   ]
  },
  {
   "cell_type": "code",
   "execution_count": null,
   "id": "2030615c-fcb3-4ca1-a1e2-4b88a1f3e9bb",
   "metadata": {},
   "outputs": [],
   "source": []
  }
 ],
 "metadata": {
  "kernelspec": {
   "display_name": "Python 3 (ipykernel)",
   "language": "python",
   "name": "python3"
  },
  "language_info": {
   "codemirror_mode": {
    "name": "ipython",
    "version": 3
   },
   "file_extension": ".py",
   "mimetype": "text/x-python",
   "name": "python",
   "nbconvert_exporter": "python",
   "pygments_lexer": "ipython3",
   "version": "3.10.12"
  }
 },
 "nbformat": 4,
 "nbformat_minor": 5
}
