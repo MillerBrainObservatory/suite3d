{
 "cells": [
  {
   "cell_type": "code",
   "execution_count": 2,
   "id": "90eac252-be49-49b8-9645-8efba653a95c",
   "metadata": {
    "execution": {
     "iopub.execute_input": "2025-04-14T14:32:04.911849Z",
     "iopub.status.busy": "2025-04-14T14:32:04.911849Z",
     "iopub.status.idle": "2025-04-14T14:32:04.952882Z",
     "shell.execute_reply": "2025-04-14T14:32:04.952882Z",
     "shell.execute_reply.started": "2025-04-14T14:32:04.911849Z"
    }
   },
   "outputs": [
    {
     "ename": "ModuleNotFoundError",
     "evalue": "No module named 'mbo_utilities.scanreader'",
     "output_type": "error",
     "traceback": [
      "\u001b[1;31m---------------------------------------------------------------------------\u001b[0m",
      "\u001b[1;31mModuleNotFoundError\u001b[0m                       Traceback (most recent call last)",
      "Cell \u001b[1;32mIn[2], line 1\u001b[0m\n\u001b[1;32m----> 1\u001b[0m \u001b[38;5;28;01mimport\u001b[39;00m\u001b[38;5;250m \u001b[39m\u001b[38;5;21;01mmbo_utilities\u001b[39;00m\u001b[38;5;250m \u001b[39m\u001b[38;5;28;01mas\u001b[39;00m\u001b[38;5;250m \u001b[39m\u001b[38;5;21;01mmbo\u001b[39;00m\n",
      "File \u001b[1;32m~\\repos\\LBM-Suite2p-Python\\.venv\\lib\\site-packages\\mbo_utilities\\__init__.py:1\u001b[0m\n\u001b[1;32m----> 1\u001b[0m \u001b[38;5;28;01mfrom\u001b[39;00m\u001b[38;5;250m \u001b[39m\u001b[38;5;21;01m.\u001b[39;00m\u001b[38;5;21;01mfile_io\u001b[39;00m\u001b[38;5;250m \u001b[39m\u001b[38;5;28;01mimport\u001b[39;00m (\n\u001b[0;32m      2\u001b[0m     get_files,\n\u001b[0;32m      3\u001b[0m     zstack_from_files,\n\u001b[0;32m      4\u001b[0m     npy_to_dask,\n\u001b[0;32m      5\u001b[0m     read_scan,\n\u001b[0;32m      6\u001b[0m     ScanMultiROIReordered,\n\u001b[0;32m      7\u001b[0m     save_png,\n\u001b[0;32m      8\u001b[0m     save_mp4,\n\u001b[0;32m      9\u001b[0m     scans,\n\u001b[0;32m     10\u001b[0m     scanreader,\n\u001b[0;32m     11\u001b[0m )\n\u001b[0;32m     12\u001b[0m \u001b[38;5;28;01mfrom\u001b[39;00m\u001b[38;5;250m \u001b[39m\u001b[38;5;21;01m.\u001b[39;00m\u001b[38;5;21;01massembly\u001b[39;00m\u001b[38;5;250m \u001b[39m\u001b[38;5;28;01mimport\u001b[39;00m save_as\n\u001b[0;32m     13\u001b[0m \u001b[38;5;28;01mfrom\u001b[39;00m\u001b[38;5;250m \u001b[39m\u001b[38;5;21;01m.\u001b[39;00m\u001b[38;5;21;01mmetadata\u001b[39;00m\u001b[38;5;250m \u001b[39m\u001b[38;5;28;01mimport\u001b[39;00m is_raw_scanimage, get_metadata, params_from_metadata\n",
      "File \u001b[1;32m~\\repos\\LBM-Suite2p-Python\\.venv\\lib\\site-packages\\mbo_utilities\\file_io.py:15\u001b[0m\n\u001b[0;32m     11\u001b[0m \u001b[38;5;28;01mimport\u001b[39;00m\u001b[38;5;250m \u001b[39m\u001b[38;5;21;01mdask\u001b[39;00m\u001b[38;5;21;01m.\u001b[39;00m\u001b[38;5;21;01marray\u001b[39;00m\u001b[38;5;250m \u001b[39m\u001b[38;5;28;01mas\u001b[39;00m\u001b[38;5;250m \u001b[39m\u001b[38;5;21;01mda\u001b[39;00m\n\u001b[0;32m     13\u001b[0m \u001b[38;5;28;01mfrom\u001b[39;00m\u001b[38;5;250m \u001b[39m\u001b[38;5;21;01mmatplotlib\u001b[39;00m\u001b[38;5;250m \u001b[39m\u001b[38;5;28;01mimport\u001b[39;00m cm\n\u001b[1;32m---> 15\u001b[0m \u001b[38;5;28;01mfrom\u001b[39;00m\u001b[38;5;250m \u001b[39m\u001b[38;5;21;01m.\u001b[39;00m\u001b[38;5;21;01mscanreader\u001b[39;00m\u001b[38;5;250m \u001b[39m\u001b[38;5;28;01mimport\u001b[39;00m scans\n\u001b[0;32m     16\u001b[0m \u001b[38;5;28;01mfrom\u001b[39;00m\u001b[38;5;250m \u001b[39m\u001b[38;5;21;01m.\u001b[39;00m\u001b[38;5;21;01mscanreader\u001b[39;00m\u001b[38;5;21;01m.\u001b[39;00m\u001b[38;5;21;01mmultiroi\u001b[39;00m\u001b[38;5;250m \u001b[39m\u001b[38;5;28;01mimport\u001b[39;00m ROI\n\u001b[0;32m     17\u001b[0m \u001b[38;5;28;01mfrom\u001b[39;00m\u001b[38;5;250m \u001b[39m\u001b[38;5;21;01m.\u001b[39;00m\u001b[38;5;21;01mutil\u001b[39;00m\u001b[38;5;250m \u001b[39m\u001b[38;5;28;01mimport\u001b[39;00m norm_minmax\n",
      "\u001b[1;31mModuleNotFoundError\u001b[0m: No module named 'mbo_utilities.scanreader'"
     ]
    }
   ],
   "source": [
    "import mbo_utilities as mbo"
   ]
  },
  {
   "cell_type": "code",
   "execution_count": 2,
   "id": "f9a3398a-18ee-4ff9-a747-f1f29f4820ea",
   "metadata": {
    "execution": {
     "iopub.execute_input": "2025-04-13T18:00:05.567736Z",
     "iopub.status.busy": "2025-04-13T18:00:05.566737Z",
     "iopub.status.idle": "2025-04-13T18:00:06.063842Z",
     "shell.execute_reply": "2025-04-13T18:00:06.063842Z",
     "shell.execute_reply.started": "2025-04-13T18:00:05.567736Z"
    }
   },
   "outputs": [
    {
     "name": "stdout",
     "output_type": "stream",
     "text": [
      "Detected possible escaped characters in the path. Use a raw string (r'...') or double backslashes.\n"
     ]
    }
   ],
   "source": [
    "scan = mbo.read_scan(r\"D:\\W2_DATA\\kbarber\\2025_03_01\\mk301\\green\\*\")"
   ]
  },
  {
   "cell_type": "code",
   "execution_count": 3,
   "id": "2351e9a6-4720-459f-b7f5-f604d1fcfd8f",
   "metadata": {
    "execution": {
     "iopub.execute_input": "2025-04-13T18:00:06.970429Z",
     "iopub.status.busy": "2025-04-13T18:00:06.969431Z",
     "iopub.status.idle": "2025-04-13T18:00:08.445870Z",
     "shell.execute_reply": "2025-04-13T18:00:08.445870Z",
     "shell.execute_reply.started": "2025-04-13T18:00:06.970429Z"
    },
    "scrolled": true
   },
   "outputs": [
    {
     "name": "stdout",
     "output_type": "stream",
     "text": [
      "Using ScanMultiROIReordered object\n",
      "Running in Jupyter\n"
     ]
    },
    {
     "data": {
      "application/vnd.jupyter.widget-view+json": {
       "model_id": "e12d802da1f94e0c977c5a6156e95cbc",
       "version_major": 2,
       "version_minor": 0
      },
      "text/plain": [
       "RFBOutputContext()"
      ]
     },
     "metadata": {},
     "output_type": "display_data"
    },
    {
     "name": "stdout",
     "output_type": "stream",
     "text": [
      "Running in Jupyter, returning image widget\n"
     ]
    },
    {
     "data": {
      "application/vnd.jupyter.widget-view+json": {
       "model_id": "89d9954ce2d74b65abebe89c320abffe",
       "version_major": 2,
       "version_minor": 0
      },
      "text/html": [
       "<div class='snapshot-89d9954ce2d74b65abebe89c320abffe' style='position:relative;'><img src='data:image/png;base64,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' style='width:500.0px;height:300.0px;' /><div style='position: absolute; top:0; left:0; padding:1px 3px; background: #777; color:#fff; font-size: 90%; font-family:sans-serif; '>snapshot</div></div>"
      ],
      "text/plain": [
       "JupyterRenderCanvas(css_height='300.0px', css_width='500.0px')"
      ]
     },
     "execution_count": 3,
     "metadata": {},
     "output_type": "execute_result"
    },
    {
     "name": "stderr",
     "output_type": "stream",
     "text": [
      "Draw error\n",
      "Traceback (most recent call last):\n",
      "  File \"C:\\Users\\RBO\\repos\\LBM-Suite2p-Python\\.venv\\lib\\site-packages\\rendercanvas\\_coreutils.py\", line 41, in log_exception\n",
      "    yield\n",
      "  File \"C:\\Users\\RBO\\repos\\LBM-Suite2p-Python\\.venv\\lib\\site-packages\\rendercanvas\\base.py\", line 409, in _draw_frame_and_present\n",
      "    self._draw_frame()\n",
      "  File \"C:\\Users\\RBO\\repos\\LBM-Suite2p-Python\\.venv\\lib\\site-packages\\fastplotlib\\layouts\\_imgui_figure.py\", line 120, in _render\n",
      "    self.imgui_renderer.render()\n",
      "  File \"C:\\Users\\RBO\\repos\\LBM-Suite2p-Python\\.venv\\lib\\site-packages\\wgpu\\utils\\imgui\\imgui_renderer.py\", line 168, in render\n",
      "    render_pass.end()\n",
      "  File \"C:\\Users\\RBO\\repos\\LBM-Suite2p-Python\\.venv\\lib\\site-packages\\wgpu\\backends\\wgpu_native\\_api.py\", line 3509, in end\n",
      "    libf.wgpuRenderPassEncoderEnd(self._internal)\n",
      "  File \"C:\\Users\\RBO\\repos\\LBM-Suite2p-Python\\.venv\\lib\\site-packages\\wgpu\\backends\\wgpu_native\\_helpers.py\", line 457, in proxy_func\n",
      "    raise wgpu_error\n",
      "  File \"C:\\Users\\RBO\\repos\\LBM-Suite2p-Python\\.venv\\lib\\site-packages\\wgpu\\backends\\wgpu_native\\_api.py\", line 3509, in end\n",
      "    libf.wgpuRenderPassEncoderEnd(self._internal)\n",
      "wgpu._classes.GPUValidationError: Validation Error\n",
      "\n",
      "Caused by:\n",
      "  In wgpuRenderPassEncoderEnd\n",
      "    In a set_viewport command\n",
      "      Viewport has invalid rect Rect { x: 0.0, y: 0.0, w: 500.0, h: 300.0 }; origin and/or size is less than or equal to 0, and/or is not contained in the render target (447, 268, 1)\n"
     ]
    }
   ],
   "source": [
    "iw = mbo.run_gui(scan)\n",
    "iw.show()"
   ]
  },
  {
   "cell_type": "code",
   "execution_count": null,
   "id": "09691246-cd25-4add-a35e-b380d4b86b3f",
   "metadata": {},
   "outputs": [],
   "source": []
  }
 ],
 "metadata": {
  "kernelspec": {
   "display_name": "Python 3 (ipykernel)",
   "language": "python",
   "name": "python3"
  },
  "language_info": {
   "codemirror_mode": {
    "name": "ipython",
    "version": 3
   },
   "file_extension": ".py",
   "mimetype": "text/x-python",
   "name": "python",
   "nbconvert_exporter": "python",
   "pygments_lexer": "ipython3",
   "version": "3.10.11"
  }
 },
 "nbformat": 4,
 "nbformat_minor": 5
}
